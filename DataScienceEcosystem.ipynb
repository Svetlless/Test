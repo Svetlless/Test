{
 "cells": [
  {
   "cell_type": "markdown",
   "id": "14dba68e-27bd-45cf-b78c-c31c31deb57e",
   "metadata": {},
   "source": [
    "# Data Science Tools and Ecosystem"
   ]
  },
  {
   "cell_type": "markdown",
   "id": "0866658c-c546-498d-94c1-1c4dcd20bb48",
   "metadata": {},
   "source": [
    "In this notebook, Data Science Tools and Ecosystem are summarized."
   ]
  },
  {
   "cell_type": "markdown",
   "id": "a20b5984-cc84-48dc-ba94-8bf4c99deb2b",
   "metadata": {},
   "source": [
    "Objectives:\n",
    "+ List popular languaged for Data Science\n",
    "+ List commonly used libraries used by Data Scientists\n",
    "+ List open source tools for Data Science\n",
    "## Author\n",
    "Svetlana Leshchinskaia"
   ]
  },
  {
   "attachments": {},
   "cell_type": "markdown",
   "id": "588799ad-b59c-4244-96d1-40f6ff1bc428",
   "metadata": {},
   "source": [
    "Some of the popular languages that Data Scientists use are:\n",
    "1. R\n",
    "2. Python\n",
    "3. Julia"
   ]
  },
  {
   "cell_type": "markdown",
   "id": "558d3610-4b79-486c-999f-1c08fd90795a",
   "metadata": {},
   "source": [
    "Some of the commonly used libraries used by Data Scientists include:\n",
    "1. TensorFlow\n",
    "2. NumPy\n",
    "3. Pandas\n"
   ]
  },
  {
   "cell_type": "markdown",
   "id": "fb7711b3-cba6-4ed0-96d4-e354d5627f16",
   "metadata": {},
   "source": [
    "|Data Science Tools|\n",
    "--------------------\n",
    "|Anaconda|\n",
    "|VS Code|\n",
    "|Git Lab|\n"
   ]
  },
  {
   "cell_type": "markdown",
   "id": "901b71c0-7bf2-444c-a05f-416949fd62ad",
   "metadata": {},
   "source": [
    "### Below are a few examples of evaluating arithmetic expressions in Python"
   ]
  },
  {
   "cell_type": "code",
   "execution_count": 4,
   "id": "970b51c3-e138-4747-8b12-71c7bbeab84e",
   "metadata": {},
   "outputs": [
    {
     "data": {
      "text/plain": [
       "17"
      ]
     },
     "execution_count": 4,
     "metadata": {},
     "output_type": "execute_result"
    }
   ],
   "source": [
    "# This is a simple arithmetic expression to multiply then add integers\n",
    "(3*4)+5"
   ]
  },
  {
   "cell_type": "code",
   "execution_count": 5,
   "id": "788cf087-1300-4536-b49f-f9b409c9e1b9",
   "metadata": {},
   "outputs": [
    {
     "data": {
      "text/plain": [
       "3.3333333333333335"
      ]
     },
     "execution_count": 5,
     "metadata": {},
     "output_type": "execute_result"
    }
   ],
   "source": [
    "# This will convert 200 minutes to hours by diving by 60\n",
    "200/60"
   ]
  },
  {
   "cell_type": "code",
   "execution_count": null,
   "id": "2b9b967e-f64b-40c1-86e5-32fc34c4eb04",
   "metadata": {},
   "outputs": [],
   "source": []
  }
 ],
 "metadata": {
  "kernelspec": {
   "display_name": "Python 3 (ipykernel)",
   "language": "python",
   "name": "python3"
  },
  "language_info": {
   "codemirror_mode": {
    "name": "ipython",
    "version": 3
   },
   "file_extension": ".py",
   "mimetype": "text/x-python",
   "name": "python",
   "nbconvert_exporter": "python",
   "pygments_lexer": "ipython3",
   "version": "3.11.5"
  }
 },
 "nbformat": 4,
 "nbformat_minor": 5
}
